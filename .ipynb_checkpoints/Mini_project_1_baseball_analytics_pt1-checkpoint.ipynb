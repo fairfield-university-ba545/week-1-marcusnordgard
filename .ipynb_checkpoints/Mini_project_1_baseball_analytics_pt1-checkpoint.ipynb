{
 "cells": [
  {
   "cell_type": "markdown",
   "metadata": {},
   "source": [
    "# Mini Project #1: Baseball Analytics\n",
    "\n",
    "The overall purpose of this mini-project is to predicting MLB wins per season by modeling data to KMeans clustering model and linear regression models."
   ]
  },
  {
   "cell_type": "markdown",
   "metadata": {},
   "source": [
    "## Part 1: Data Import and Handling\n",
    "\n",
    "In this tutorial, you’ll see how you can easily load in data from a database with `sqlite3`, how you can explore your data and improve its data quality with pandas and matplotlib, and how you can then use the `Scikit-Learn` package to extract some valid insights out of your data.\n",
    "\n",
    "You will read in the data by querying a `sqlite` database using the sqlite3 package and converting to a DataFrame with pandas. Your data will be filtered to only include currently active modern teams and only years where the team played `150` or more games.\n",
    "\n",
    "### Import Data"
   ]
  },
  {
   "cell_type": "code",
   "execution_count": 1,
   "metadata": {
    "collapsed": true
   },
   "outputs": [],
   "source": [
    "# importing pandas and sqlite3 packages\n",
    "import pandas as pd\n",
    "import sqlite3"
   ]
  },
  {
   "cell_type": "code",
   "execution_count": 2,
   "metadata": {
    "collapsed": true
   },
   "outputs": [],
   "source": [
    "#connecting the sqlite database to the notebook\n",
    "conn = sqlite3.connect('../lahman2016.sqlite')"
   ]
  },
  {
   "cell_type": "code",
   "execution_count": 3,
   "metadata": {
    "collapsed": true
   },
   "outputs": [],
   "source": [
    "#Writing the SQL query to select the teams which have played more than 150 games and are still active\n",
    "query = '''select * from Teams\n",
    "inner join TeamsFranchises on Teams.franchID == TeamsFranchises.franchID\n",
    "where Teams.G >= 150 and TeamsFranchises.active== 'Y';  '''\n",
    "\n",
    "\n",
    "#Executing the query \n",
    "Teams = conn.execute(query).fetchall()"
   ]
  },
  {
   "cell_type": "code",
   "execution_count": 4,
   "metadata": {
    "collapsed": true
   },
   "outputs": [
    {
     "name": "stdout",
     "output_type": "stream",
     "text": [
      "     0   1    2    3     4   5    6     7   8   9   ...       42   43   44  \\\n",
      "0  1961  AL  LAA  ANA  None   8  162  82.0  70  91  ...   603510  111  112   \n",
      "1  1962  AL  LAA  ANA  None   3  162  81.0  86  76  ...  1144063   97   97   \n",
      "2  1963  AL  LAA  ANA  None   9  161  81.0  70  91  ...   821015   94   94   \n",
      "3  1964  AL  LAA  ANA  None   5  162  81.0  82  80  ...   760439   90   90   \n",
      "4  1965  AL  CAL  ANA  None   7  162  80.0  75  87  ...   566727   97   98   \n",
      "5  1966  AL  CAL  ANA  None   6  162  81.0  80  82  ...  1400321   97   97   \n",
      "6  1967  AL  CAL  ANA  None   5  161  83.0  84  77  ...  1317713   95   96   \n",
      "7  1968  AL  CAL  ANA  None   8  162  81.0  67  95  ...  1025956   95   97   \n",
      "8  1969  AL  CAL  ANA     W   3  163  81.0  71  91  ...   758388   94   95   \n",
      "9  1970  AL  CAL  ANA     W   3  162  81.0  86  76  ...  1077741   96   97   \n",
      "\n",
      "    45   46   47   48                             49  50    51  \n",
      "0  LAA  LAA  LAA  ANA  Los Angeles Angels of Anaheim   Y  None  \n",
      "1  LAA  LAA  LAA  ANA  Los Angeles Angels of Anaheim   Y  None  \n",
      "2  LAA  LAA  LAA  ANA  Los Angeles Angels of Anaheim   Y  None  \n",
      "3  LAA  LAA  LAA  ANA  Los Angeles Angels of Anaheim   Y  None  \n",
      "4  CAL  CAL  CAL  ANA  Los Angeles Angels of Anaheim   Y  None  \n",
      "5  CAL  CAL  CAL  ANA  Los Angeles Angels of Anaheim   Y  None  \n",
      "6  CAL  CAL  CAL  ANA  Los Angeles Angels of Anaheim   Y  None  \n",
      "7  CAL  CAL  CAL  ANA  Los Angeles Angels of Anaheim   Y  None  \n",
      "8  CAL  CAL  CAL  ANA  Los Angeles Angels of Anaheim   Y  None  \n",
      "9  CAL  CAL  CAL  ANA  Los Angeles Angels of Anaheim   Y  None  \n",
      "\n",
      "[10 rows x 52 columns]\n"
     ]
    }
   ],
   "source": [
    "# Converting the result into a Pandas dataframe \n",
    "#### Complete the code block below\n",
    "#### create a df called `df_Teams' and from the data `Teams`\n",
    "df_Teams = pd.DataFrame(Teams)\n",
    "\n",
    "#### display the first 10 rows of `df_Teams`\n",
    "print(df_Teams.head(10))"
   ]
  },
  {
   "cell_type": "markdown",
   "metadata": {},
   "source": [
    "This is the standard process of reading data from a database (`sqlite`) to a `pandas` dataframe. \n",
    "\n",
    "Please note that it is a common practice reading data from enterprise systems - so please familiarize yourselves with this part."
   ]
  },
  {
   "cell_type": "markdown",
   "metadata": {},
   "source": [
    "### Data Cleaning\n",
    "\n",
    "Prior to assessing the data quality, let’s first eliminate the columns that aren’t necessary or are derived from the target column (`Wins`). This is where knowledge of the data you are working with starts to become very valuable.\n",
    "\n",
    "You should have noted that our dataframe (`df_Teams`) has no column names. Let's first define the column names."
   ]
  },
  {
   "cell_type": "code",
   "execution_count": 5,
   "metadata": {
    "collapsed": true
   },
   "outputs": [
    {
     "name": "stdout",
     "output_type": "stream",
     "text": [
      "   yearID lgID teamID  franchID divID  Rank    G  Ghome   W   L  ...  \\\n",
      "0    1961   AL    LAA       ANA  None     8  162   82.0  70  91  ...   \n",
      "1    1962   AL    LAA       ANA  None     3  162   81.0  86  76  ...   \n",
      "2    1963   AL    LAA       ANA  None     9  161   81.0  70  91  ...   \n",
      "3    1964   AL    LAA       ANA  None     5  162   81.0  82  80  ...   \n",
      "4    1965   AL    CAL       ANA  None     7  162   80.0  75  87  ...   \n",
      "\n",
      "  attendance  BPF  PPF teamIDBR  teamIDlahman45  teamIDretro  franchID  \\\n",
      "0     603510  111  112      LAA             LAA          LAA       ANA   \n",
      "1    1144063   97   97      LAA             LAA          LAA       ANA   \n",
      "2     821015   94   94      LAA             LAA          LAA       ANA   \n",
      "3     760439   90   90      LAA             LAA          LAA       ANA   \n",
      "4     566727   97   98      CAL             CAL          CAL       ANA   \n",
      "\n",
      "                      franchName  active  NAassoc  \n",
      "0  Los Angeles Angels of Anaheim       Y     None  \n",
      "1  Los Angeles Angels of Anaheim       Y     None  \n",
      "2  Los Angeles Angels of Anaheim       Y     None  \n",
      "3  Los Angeles Angels of Anaheim       Y     None  \n",
      "4  Los Angeles Angels of Anaheim       Y     None  \n",
      "\n",
      "[5 rows x 52 columns]\n"
     ]
    }
   ],
   "source": [
    "# Adding column names to dataframe\n",
    "\n",
    "cols = ['yearID','lgID','teamID','franchID','divID','Rank','G','Ghome','W','L','DivWin','WCWin','LgWin','WSWin',\n",
    "        'R','AB','H','2B','3B','HR','BB','SO','SB','CS','HBP','SF','RA','ER','ERA','CG','SHO','SV','IPouts','HA',\n",
    "        'HRA','BBA','SOA','E','DP','FP','name','park','attendance','BPF','PPF','teamIDBR','teamIDlahman45',\n",
    "        'teamIDretro','franchID','franchName','active','NAassoc']\n",
    "\n",
    "# Defining columns of 'df_Teams' to 'cols'\n",
    "\n",
    "df_Teams.columns = cols\n",
    "\n",
    "# Printing first 5 rows of df_Teams\n",
    "\n",
    "print(df_Teams.head())"
   ]
  },
  {
   "cell_type": "markdown",
   "metadata": {},
   "source": [
    "Some of the columns are not as useful as the others. So that we are going to delete them.\n",
    "\n",
    "__Note__: what we are doing right now is part of __feature selection__, we have multiple ways of feature selection."
   ]
  },
  {
   "cell_type": "code",
   "execution_count": null,
   "metadata": {
    "collapsed": true
   },
   "outputs": [],
   "source": [
    "# Dropping your unnecesary column variables.\n",
    "drop_cols = ['lgID','franchID','divID','Rank','Ghome','L','DivWin','WCWin','LgWin','WSWin','SF','name','park',\n",
    "             'attendance','BPF','PPF','teamIDBR','teamIDlahman45','teamIDretro','franchID','franchName','active',\n",
    "             'NAassoc']\n",
    "\n",
    "#### drop columns contained in `drop_cols` from `df_Teams`\n",
    "#### and save the remaining columns as `df`\n",
    "\n",
    "\n",
    "#### make sure that these columns are deleted by looking at the first 5 rows of `df`\n",
    "#### you should see only 29 columns\n"
   ]
  },
  {
   "cell_type": "markdown",
   "metadata": {},
   "source": [
    "### Handling Missing Values\n",
    "\n",
    "`2` of the columns have a relatively small amount of null values. There are `110` null values in the `SO` (Strike Outs) column and `22` in the DP (Double Play) column. Two of the columns have a relatively large amount of them. There are `419` null values in the `CS` (Caught Stealing) column and `1777` in the `HBP` (Hit by Pitch) column."
   ]
  },
  {
   "cell_type": "code",
   "execution_count": 30,
   "metadata": {
    "collapsed": true
   },
   "outputs": [
    {
     "name": "stdout",
     "output_type": "stream",
     "text": [
      "   yearID teamID    G   W    R    AB     H   2B  3B   HR  ...  SHO  SV  \\\n",
      "0    1961    LAA  162  70  744  5424  1331  218  22  189  ...    5  34   \n",
      "1    1962    LAA  162  86  718  5499  1377  232  35  137  ...   15  47   \n",
      "2    1963    LAA  161  70  597  5506  1378  208  38   95  ...   13  31   \n",
      "3    1964    LAA  162  82  544  5362  1297  186  27  102  ...   28  41   \n",
      "4    1965    CAL  162  75  527  5354  1279  200  36   92  ...   14  33   \n",
      "\n",
      "   IPouts    HA  HRA  BBA  SOA    E     DP     FP  \n",
      "0    4314  1391  180  713  973  192  154.0  0.969  \n",
      "1    4398  1412  118  616  858  175  153.0  0.972  \n",
      "2    4365  1317  120  578  889  163  155.0  0.974  \n",
      "3    4350  1273  100  530  965  138  168.0  0.978  \n",
      "4    4323  1259   91  563  847  123  149.0  0.981  \n",
      "\n",
      "[5 rows x 29 columns]\n"
     ]
    }
   ],
   "source": [
    "# Dropping your unnecesary column variables\n",
    "\n",
    "drop_cols = ['lgID','franchID','divID','Rank','Ghome','L','DivWin','WCWin','LgWin','WSWin','SF','name','park',\n",
    "             'attendance','BPF','PPF','teamIDBR','teamIDlahman45','teamIDretro','franchID','franchName','active',\n",
    "             'NAassoc']\n",
    "\n",
    "# Dropping columns from df_Teams in drop_cols, saving the new dataframe as df\n",
    "\n",
    "df_Teams.drop(columns = drop_cols, inplace = True)\n",
    "\n",
    "# Printing the first 5 rows of df\n",
    "\n",
    "print(df_Teams.head())\n"
   ]
  },
  {
   "cell_type": "markdown",
   "metadata": {},
   "source": [
    "We are going to drop two columns (`CS` and `HBP`) with too many missing values.\n",
    "\n",
    "__NOTE__: even though we said that dropping columns with missing values is the __last resort__, the reason we are dropping the columns here is that because of the number of missing values, it will be very difficult for us to impute them in these two columns."
   ]
  },
  {
   "cell_type": "code",
   "execution_count": 31,
   "metadata": {
    "collapsed": true
   },
   "outputs": [
    {
     "name": "stdout",
     "output_type": "stream",
     "text": [
      "   yearID teamID    G   W    R    AB     H   2B  3B   HR  ...  SHO  SV  \\\n",
      "0    1961    LAA  162  70  744  5424  1331  218  22  189  ...    5  34   \n",
      "1    1962    LAA  162  86  718  5499  1377  232  35  137  ...   15  47   \n",
      "2    1963    LAA  161  70  597  5506  1378  208  38   95  ...   13  31   \n",
      "3    1964    LAA  162  82  544  5362  1297  186  27  102  ...   28  41   \n",
      "4    1965    CAL  162  75  527  5354  1279  200  36   92  ...   14  33   \n",
      "\n",
      "   IPouts    HA  HRA  BBA  SOA    E     DP     FP  \n",
      "0    4314  1391  180  713  973  192  154.0  0.969  \n",
      "1    4398  1412  118  616  858  175  153.0  0.972  \n",
      "2    4365  1317  120  578  889  163  155.0  0.974  \n",
      "3    4350  1273  100  530  965  138  168.0  0.978  \n",
      "4    4323  1259   91  563  847  123  149.0  0.981  \n",
      "\n",
      "[5 rows x 27 columns]\n"
     ]
    }
   ],
   "source": [
    "# Dropping the columns with large number of null values\n",
    "\n",
    "df_Teams.drop(columns = ['CS','HBP'], inplace = True)\n",
    "\n",
    "# Printing the first 5 rows of the df_Teams dataframe\n",
    "\n",
    "print(df_Teams.head())"
   ]
  },
  {
   "cell_type": "markdown",
   "metadata": {},
   "source": [
    "With the two columns dropped, we can impute the missing values in the other two columns (`SO` and `DP`) since they have much less.\n",
    "\n",
    "### Impute Missing Values\n",
    "\n",
    "As a design decision, we decide to use `median` instead of `mean` to impute the missing values. Use the block below to answer __why we made that decision__."
   ]
  },
  {
   "cell_type": "markdown",
   "metadata": {},
   "source": [
    "__Double click and type your answer here__."
   ]
  },
  {
   "cell_type": "code",
   "execution_count": 32,
   "metadata": {
    "collapsed": true
   },
   "outputs": [
    {
     "data": {
      "text/plain": [
       "yearID    0\n",
       "teamID    0\n",
       "G         0\n",
       "W         0\n",
       "R         0\n",
       "AB        0\n",
       "H         0\n",
       "2B        0\n",
       "3B        0\n",
       "HR        0\n",
       "BB        0\n",
       "SO        0\n",
       "SB        0\n",
       "RA        0\n",
       "ER        0\n",
       "ERA       0\n",
       "CG        0\n",
       "SHO       0\n",
       "SV        0\n",
       "IPouts    0\n",
       "HA        0\n",
       "HRA       0\n",
       "BBA       0\n",
       "SOA       0\n",
       "E         0\n",
       "DP        0\n",
       "FP        0\n",
       "dtype: int64"
      ]
     },
     "execution_count": 32,
     "metadata": {},
     "output_type": "execute_result"
    }
   ],
   "source": [
    "# Filling the missing values with the median of their respective column values\n",
    "\n",
    "df_Teams['SO'].fillna(df_Teams['SO'].median(), inplace=True)\n",
    "df_Teams['DP'].fillna(df_Teams['DP'].median(), inplace=True)\n",
    "\n",
    "# Checking to see if there are any null values that are not filled by using the len operator and subtracting that from the count\n",
    "\n",
    "len(df_Teams.index)-df_Teams.count()\n"
   ]
  },
  {
   "cell_type": "markdown",
   "metadata": {},
   "source": [
    "There is an easier way of checking null values in a dataframe. You can use either way based on your preference."
   ]
  },
  {
   "cell_type": "code",
   "execution_count": 33,
   "metadata": {
    "collapsed": true
   },
   "outputs": [
    {
     "name": "stdout",
     "output_type": "stream",
     "text": [
      "[0, 0, 0, 0, 0, 0, 0, 0, 0, 0, 0, 0, 0, 0, 0, 0, 0, 0, 0, 0, 0, 0, 0, 0, 0, 0, 0]\n"
     ]
    }
   ],
   "source": [
    "# Another way to check if there are any nulls in the columns of the dataframe\n",
    "\n",
    "print(df_Teams.isnull().sum(axis=0).tolist())"
   ]
  },
  {
   "cell_type": "markdown",
   "metadata": {},
   "source": [
    "### Exploring and Visualizing The Data\n",
    "\n",
    "Exploring your data using different types of visualizations is always a good practice when doing EDA.\n",
    "\n",
    "You’ll start by plotting a histogram of the target column (`W`) so you can see the distribution of wins."
   ]
  },
  {
   "cell_type": "code",
   "execution_count": 35,
   "metadata": {
    "collapsed": true
   },
   "outputs": [],
   "source": [
    "# Importing matplotlib\n",
    "\n",
    "import matplotlib.pyplot as plt\n",
    "%matplotlib inline\n",
    "\n",
    "#### The statement below ask matplotlib to use the 'ggplot' style\n",
    "#### you should consider using that\n",
    "\n",
    "plt.style.use('ggplot')"
   ]
  },
  {
   "cell_type": "code",
   "execution_count": 36,
   "metadata": {
    "collapsed": true
   },
   "outputs": [
    {
     "data": {
      "image/png": "[encoded data removed]",
      "text/plain": [
       "<Figure size 432x288 with 1 Axes>"
      ]
     },
     "metadata": {},
     "output_type": "display_data"
    }
   ],
   "source": [
    "# Creating a histogram `hist()` over the column `df['W']`\n",
    "\n",
    "plt.hist(df_Teams['W'])\n",
    "\n",
    "# Adding an x-axis titled 'Wins'\n",
    "\n",
    "plt.xlabel('Wins')\n",
    "\n",
    "# Adding a title to the histogram called 'Distribution of Wins'\n",
    "\n",
    "plt.title('Distribution of Wins')\n",
    "\n",
    "# Showing the histogram\n",
    "\n",
    "plt.show()\n"
   ]
  },
  {
   "cell_type": "code",
   "execution_count": 37,
   "metadata": {
    "collapsed": true
   },
   "outputs": [
    {
     "data": {
      "text/plain": [
       "count    2287.000000\n",
       "mean       79.230433\n",
       "std        13.045240\n",
       "min        36.000000\n",
       "25%        70.000000\n",
       "50%        80.000000\n",
       "75%        89.000000\n",
       "max       116.000000\n",
       "Name: W, dtype: float64"
      ]
     },
     "execution_count": 37,
     "metadata": {},
     "output_type": "execute_result"
    }
   ],
   "source": [
    "# Showing the descriptive statistics of the column 'W'\n",
    "\n",
    "df_Teams['W'].describe()"
   ]
  },
  {
   "cell_type": "markdown",
   "metadata": {},
   "source": [
    "You should already know that `df['W']` is a __continuous__ field. \n",
    "\n",
    "__Answer this question__: When the target variable is continuous, what type of analysis are we doing (select from classification/clustering/regression), and why? __Use the block below to answer__."
   ]
  },
  {
   "cell_type": "markdown",
   "metadata": {},
   "source": [
    "__Double click and type your answer__."
   ]
  },
  {
   "cell_type": "markdown",
   "metadata": {},
   "source": [
    "One way to convert a continuous variable to categorical is through binning. You can bin your continuous variable using its distribution, any external knowledge, or some other logical reasons. But __be sure to include your reason in your analytical report__."
   ]
  },
  {
   "cell_type": "code",
   "execution_count": 38,
   "metadata": {
    "collapsed": true
   },
   "outputs": [
    {
     "name": "stdout",
     "output_type": "stream",
     "text": [
      "   yearID teamID    G   W    R    AB     H   2B  3B   HR  ...  SV  IPouts  \\\n",
      "0    1961    LAA  162  70  744  5424  1331  218  22  189  ...  34    4314   \n",
      "1    1962    LAA  162  86  718  5499  1377  232  35  137  ...  47    4398   \n",
      "2    1963    LAA  161  70  597  5506  1378  208  38   95  ...  31    4365   \n",
      "3    1964    LAA  162  82  544  5362  1297  186  27  102  ...  41    4350   \n",
      "4    1965    CAL  162  75  527  5354  1279  200  36   92  ...  33    4323   \n",
      "\n",
      "     HA  HRA  BBA  SOA    E     DP     FP  Win_Bins  \n",
      "0  1391  180  713  973  192  154.0  0.969         3  \n",
      "1  1412  118  616  858  175  153.0  0.972         3  \n",
      "2  1317  120  578  889  163  155.0  0.974         3  \n",
      "3  1273  100  530  965  138  168.0  0.978         3  \n",
      "4  1259   91  563  847  123  149.0  0.981         3  \n",
      "\n",
      "[5 rows x 28 columns]\n"
     ]
    }
   ],
   "source": [
    "#Creating Bins for ploting and understanding of the target \n",
    "\n",
    "## Binning for Cintinuous and categorical\n",
    "\n",
    "def assign_win_bins(W):\n",
    "    if W < 50:                       # Creating a bin value of 1 for wins amounting less than 50\n",
    "        return(1)\n",
    "    if W >= 50 and W <= 69:          # Creating a bin value of 2 for wins amounting greater than 50 and less than 70\n",
    "        return(2)\n",
    "    if W >= 70 and W <= 89:          # Creating a bin value of 3 for wins amounting greater than 70 and less than 90\n",
    "        return(3)\n",
    "    if W >= 90 and W <= 109:         # Creating a bin value of 3 for wins amounting greater than 90 and less than 109\n",
    "        return(4)\n",
    "    if W >= 110:                     # Creating a bin value of 3 for wins amounting greater than 110\n",
    "        return(5)\n",
    "\n",
    "    \n",
    "# Creating a new columns for the bins that I just created\n",
    "\n",
    "df_Teams['Win_Bins'] = df_Teams['W'].apply(assign_win_bins)\n",
    "\n",
    "# Printing the first 5 rows of df_Teams with the new 'Win_Bins' column\n",
    "\n",
    "print(df_Teams.head())"
   ]
  },
  {
   "cell_type": "markdown",
   "metadata": {},
   "source": [
    "You probably already know that we need to look at the newly binned column (`Win_bins`). Instead of bar chart (distribution chart), we want to look at its values crossed by `Years`.\n",
    "\n",
    "Scatterplot is very suitable for that purpose.\n",
    "\n",
    "You will use the `scatter()` method to create the scatterplot. In the `scatter()` method: \n",
    "- __STEP1__: you need to first define two axis: `df['yearID']` and `df['W']`. __Note__ that we need the continuous value for the axis so that we use `df['W']` instead of `df['Win_bins]`;\n",
    "- __STEP2__: you need to define how to color your points by invoking the `c=` parameter. Here we want to color the data points by `df['Win_bins']`;\n",
    "- __STEP3__: As said above, we want to add title (`Win by Year Scatterplot`), x-axis label (`Years`), and y-axis label (`Wins`) to the scatterplot. __Hint__: as we did before, you can use `plt.title()` method to add title to your plot;\n",
    "- __STEP4__: Then you need to display your plot by calling the `show()` method.\n",
    "\n",
    "Use above logic to complete the code block below.\n"
   ]
  },
  {
   "cell_type": "code",
   "execution_count": 39,
   "metadata": {
    "collapsed": true
   },
   "outputs": [
    {
     "data": {
      "image/png": "[encoded data removed]",
      "text/plain": [
       "<Figure size 432x288 with 1 Axes>"
      ]
     },
     "metadata": {},
     "output_type": "display_data"
    }
   ],
   "source": [
    "# Scatterplot for year-wise wins\n",
    "\n",
    "plt.scatter(x = df_Teams['yearID'], y = df_Teams['W'], c = df_Teams['Win_Bins'])\n",
    "\n",
    "# Labeling stuffz\n",
    "\n",
    "plt.xlabel('Years')\n",
    "plt.ylabel('Wins')\n",
    "plt.title('Wins by Year Scatterplot')\n",
    "\n",
    "# Printing the scatter plot\n",
    "\n",
    "plt.show()"
   ]
  },
  {
   "cell_type": "markdown",
   "metadata": {},
   "source": [
    "Looks like our binning is good - bins `[2, 3, 4]` capture the majority of data, while bins `[1, 5]` capture the extreme values (outliers).\n",
    "\n",
    "Let's save the processed data to a CSV file so that we can re-use it in part 2."
   ]
  },
  {
   "cell_type": "code",
   "execution_count": 40,
   "metadata": {
    "collapsed": true
   },
   "outputs": [],
   "source": [
    "# Saving the dataframe df_Teams to a csv file\n",
    "\n",
    "df_Teams.to_csv('../baseball_analytics_part1.csv')"
   ]
  },
  {
   "cell_type": "markdown",
   "metadata": {},
   "source": [
    "That's all for part one. Please make sure your sync the complete notebook to your github repo for submission."
   ]
  },
  {
   "cell_type": "code",
   "execution_count": null,
   "metadata": {
    "collapsed": true
   },
   "outputs": [],
   "source": []
  }
 ],
 "metadata": {
  "kernelspec": {
   "display_name": "Python 3",
   "language": "python",
   "name": "python3"
  },
  "language_info": {
   "codemirror_mode": {
    "name": "ipython",
    "version": 3
   },
   "file_extension": ".py",
   "mimetype": "text/x-python",
   "name": "python",
   "nbconvert_exporter": "python",
   "pygments_lexer": "ipython3",
   "version": "3.6.7"
  }
 },
 "nbformat": 4,
 "nbformat_minor": 2
}
